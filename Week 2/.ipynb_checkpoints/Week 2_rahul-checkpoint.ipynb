{
 "cells": [
  {
   "cell_type": "markdown",
   "metadata": {},
   "source": [
    "## Some housekeeping\n",
    "\n",
    "Reminders:\n",
    "\n",
    "This lab will cover second half of the week, but questions about first half welcome!\n",
    "\n",
    "I am much more responsive on Slack, please allow for some response time via emails.\n",
    "\n",
    "For those who attended last week, please check if your attendance has been updated on Canvas. If not, reach out to me."
   ]
  },
  {
   "cell_type": "markdown",
   "metadata": {},
   "source": [
    "## Some websites that I find helpful\n",
    "\n",
    "https://stackoverflow.com/\n",
    "\n",
    "https://www.geeksforgeeks.org/\n",
    "\n",
    "Tips: Troubleshoot as much as you can on your own, its the only way to learn + perfect coding! Also, I find learning shortcuts in software are really helpful while I'm coding. (Ex. Ctrl + 1 is commenting in Spyder)"
   ]
  },
  {
   "cell_type": "markdown",
   "metadata": {},
   "source": [
    "## Code"
   ]
  },
  {
   "cell_type": "markdown",
   "metadata": {},
   "source": [
    "### if statement"
   ]
  },
  {
   "cell_type": "code",
   "execution_count": 1,
   "metadata": {},
   "outputs": [
    {
     "name": "stdout",
     "output_type": "stream",
     "text": [
      "Yay\n"
     ]
    }
   ],
   "source": [
    "### if statements\n",
    "# importance of tabs, whitespaces\n",
    "\n",
    "x = 10\n",
    "if x == 10:\n",
    "    print('Yay')\n",
    "elif x == 20:\n",
    "    print('Nay')\n",
    "else:\n",
    "    print('Neither')"
   ]
  },
  {
   "cell_type": "markdown",
   "metadata": {},
   "source": [
    "### for, while loops"
   ]
  },
  {
   "cell_type": "code",
   "execution_count": 7,
   "metadata": {},
   "outputs": [
    {
     "name": "stdout",
     "output_type": "stream",
     "text": [
      "Current show is: How I Met Your Mother\n",
      "Current show is: Friends\n",
      "Current show is: Silicon Valley\n",
      "Current show is: Family Guy\n",
      "Current show is: South Park\n",
      "Current show is: Rick and Morty\n",
      "Current show is: Breaking Bad\n",
      "Current show is: Game of Thrones\n",
      "Current show is: The Wire\n",
      "keep going\n",
      "keep going\n",
      "keep going\n",
      "keep going\n",
      "keep going\n",
      "keep going\n"
     ]
    }
   ],
   "source": [
    "# Source: https://data36.com/python-nested-loops-if-statements-combined-data-sciene/\n",
    "my_shows = ['How I Met Your Mother', 'Friends', 'Silicon Valley',\n",
    "    'Family Guy', 'South Park', 'Rick and Morty','Breaking Bad', 'Game of Thrones', 'The Wire']\n",
    "for show in my_shows:\n",
    "    print('Current show is:', show)\n",
    "i = 0\n",
    "while my_shows[i] != 'Breaking Bad':\n",
    "    print('keep going')\n",
    "    i+=1"
   ]
  },
  {
   "cell_type": "markdown",
   "metadata": {},
   "source": [
    "### for + if"
   ]
  },
  {
   "cell_type": "code",
   "execution_count": 5,
   "metadata": {},
   "outputs": [
    {
     "name": "stdout",
     "output_type": "stream",
     "text": [
      "Meh\n",
      "Meh\n",
      "Meh\n",
      "Meh\n",
      "Meh\n",
      "Meh\n",
      "best show ever\n",
      "Meh\n",
      "Meh\n"
     ]
    }
   ],
   "source": [
    "for show in my_shows:\n",
    "    if show == 'Breaking Bad':\n",
    "        print('best show ever')\n",
    "    else:\n",
    "        print('Meh')"
   ]
  },
  {
   "cell_type": "markdown",
   "metadata": {},
   "source": [
    "### continue, break"
   ]
  },
  {
   "cell_type": "code",
   "execution_count": 6,
   "metadata": {},
   "outputs": [
    {
     "name": "stdout",
     "output_type": "stream",
     "text": [
      "not yet\n",
      "not yet\n",
      "not yet\n",
      "not yet\n",
      "not yet\n",
      "best show ever\n"
     ]
    }
   ],
   "source": [
    "for show in my_shows:\n",
    "    if show == 'Breaking Bad':\n",
    "        print('best show ever')\n",
    "        break\n",
    "    elif show == 'Friends':\n",
    "        continue\n",
    "    else:\n",
    "        print('not yet')"
   ]
  },
  {
   "cell_type": "markdown",
   "metadata": {},
   "source": [
    "### List Comprehensions (FTW)"
   ]
  },
  {
   "cell_type": "code",
   "execution_count": 8,
   "metadata": {},
   "outputs": [
    {
     "name": "stdout",
     "output_type": "stream",
     "text": [
      "['Friends', 'Rick and Morty']\n"
     ]
    }
   ],
   "source": [
    "funny_shows = [show for show in my_shows if show in ['Friends', 'Rick and Morty']]\n",
    "print(funny_shows)"
   ]
  },
  {
   "cell_type": "markdown",
   "metadata": {},
   "source": [
    "### Dictionary key and values"
   ]
  },
  {
   "cell_type": "code",
   "execution_count": 9,
   "metadata": {},
   "outputs": [
    {
     "name": "stdout",
     "output_type": "stream",
     "text": [
      "dict_keys(['brand', 'model', 'year']) dict_values(['Ford', 'Mustang', 2020])\n"
     ]
    }
   ],
   "source": [
    "# Source: https://www.w3schools.com/python/python_dictionaries.asp\n",
    "thisdict = {\n",
    "  \"brand\": \"Ford\",\n",
    "  \"model\": \"Mustang\",\n",
    "  \"year\": 1964,\n",
    "  \"year\": 2020\n",
    "}\n",
    "print(thisdict.keys(), thisdict.values())"
   ]
  },
  {
   "cell_type": "code",
   "execution_count": null,
   "metadata": {},
   "outputs": [],
   "source": [
    "# from class\n",
    "start_list = ['a', 'b', 'c', 'd', 'e']\n",
    "new_dict = {key.upper(): None for key in start_list}\n",
    "print(new_dict)"
   ]
  },
  {
   "cell_type": "code",
   "execution_count": null,
   "metadata": {},
   "outputs": [],
   "source": []
  }
 ],
 "metadata": {
  "kernelspec": {
   "display_name": "Python 3",
   "language": "python",
   "name": "python3"
  },
  "language_info": {
   "codemirror_mode": {
    "name": "ipython",
    "version": 3
   },
   "file_extension": ".py",
   "mimetype": "text/x-python",
   "name": "python",
   "nbconvert_exporter": "python",
   "pygments_lexer": "ipython3",
   "version": "3.7.6"
  }
 },
 "nbformat": 4,
 "nbformat_minor": 4
}
