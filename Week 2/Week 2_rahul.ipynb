{
 "cells": [
  {
   "cell_type": "markdown",
   "metadata": {},
   "source": [
    "## Some housekeeping\n",
    "\n",
    "Reminders:\n",
    "\n",
    "This lab will cover second half of the week, but questions about first half welcome!\n",
    "\n",
    "I am much more responsive on Slack, please allow for some response time via emails.\n",
    "\n",
    "For those who attended last week, please check if your attendance has been updated on Canvas. If not, reach out to me."
   ]
  },
  {
   "cell_type": "markdown",
   "metadata": {},
   "source": [
    "## Some websites that I find helpful\n",
    "\n",
    "https://stackoverflow.com/\n",
    "\n",
    "https://www.geeksforgeeks.org/\n",
    "\n",
    "Tips: Troubleshoot as much as you can on your own, its the only way to learn + perfect coding! Also, I find learning shortcuts in software are really helpful while I'm coding. (Ex. Ctrl + 1 is commenting in Spyder)"
   ]
  },
  {
   "cell_type": "markdown",
   "metadata": {},
   "source": [
    "## Code"
   ]
  },
  {
   "cell_type": "markdown",
   "metadata": {},
   "source": [
    "### if statement"
   ]
  },
  {
   "cell_type": "code",
   "execution_count": 3,
   "metadata": {},
   "outputs": [
    {
     "name": "stdout",
     "output_type": "stream",
     "text": [
      "Yay\n",
      "10\n"
     ]
    }
   ],
   "source": [
    "### if statements\n",
    "# importance of tabs, whitespaces\n",
    "\n",
    "x = 10\n",
    "if x == 10:\n",
    "    print('Yay')\n",
    "elif x == 20:\n",
    "    print('Nay')\n",
    "    y = 10\n",
    "else:\n",
    "    print('Neither')\n",
    "print(y)"
   ]
  },
  {
   "cell_type": "markdown",
   "metadata": {},
   "source": [
    "### for, while loops"
   ]
  },
  {
   "cell_type": "code",
   "execution_count": 7,
   "metadata": {},
   "outputs": [
    {
     "name": "stdout",
     "output_type": "stream",
     "text": [
      "Current show is: How I Met Your Mother\n",
      "Current show is: Friends\n",
      "Current show is: Silicon Valley\n",
      "Current show is: Family Guy\n",
      "Current show is: South Park\n",
      "Current show is: Rick and Morty\n",
      "Current show is: Breaking Bad\n",
      "Current show is: Game of Thrones\n",
      "Current show is: The Wire\n",
      "keep going\n",
      "keep going\n",
      "keep going\n",
      "keep going\n"
     ]
    }
   ],
   "source": [
    "# Source: https://data36.com/python-nested-loops-if-statements-combined-data-sciene/\n",
    "my_shows = ['How I Met Your Mother', 'Friends', 'Silicon Valley',\n",
    "    'Family Guy', 'South Park', 'Rick and Morty','Breaking Bad', 'Game of Thrones', 'The Wire']\n",
    "\n",
    "for show in my_shows:\n",
    "    print('Current show is:', show)\n",
    "\n",
    "i = 0\n",
    "while my_shows[i] != 'Breaking Bad':\n",
    "    print('keep going')\n",
    "    i+=2"
   ]
  },
  {
   "cell_type": "code",
   "execution_count": 5,
   "metadata": {},
   "outputs": [
    {
     "name": "stdout",
     "output_type": "stream",
     "text": [
      "my name is rahul kulkarni 10\n"
     ]
    }
   ],
   "source": [
    "print('my name is', 'rahul', 'kulkarni', x)"
   ]
  },
  {
   "cell_type": "markdown",
   "metadata": {},
   "source": [
    "### for + if"
   ]
  },
  {
   "cell_type": "code",
   "execution_count": 8,
   "metadata": {},
   "outputs": [
    {
     "name": "stdout",
     "output_type": "stream",
     "text": [
      "not yet\n",
      "Meh\n",
      "Meh\n",
      "Meh\n",
      "Meh\n",
      "Meh\n",
      "best show ever\n",
      "Meh\n",
      "Meh\n"
     ]
    }
   ],
   "source": [
    "my_shows = ['How I Met Your Mother', 'Friends', 'Silicon Valley',\n",
    "    'Family Guy', 'South Park', 'Rick and Morty','Breaking Bad', 'Game of Thrones', 'The Wire']\n",
    "for show in my_shows:\n",
    "    if show == 'Breaking Bad':\n",
    "        print('best show ever')\n",
    "    elif show == 'How I Met Your Mother':\n",
    "        print('not yet')\n",
    "    else:\n",
    "        print('Meh')\n"
   ]
  },
  {
   "cell_type": "markdown",
   "metadata": {},
   "source": [
    "### continue, break"
   ]
  },
  {
   "cell_type": "code",
   "execution_count": 6,
   "metadata": {},
   "outputs": [
    {
     "name": "stdout",
     "output_type": "stream",
     "text": [
      "not yet\n",
      "not yet\n",
      "not yet\n",
      "not yet\n",
      "not yet\n",
      "best show ever\n"
     ]
    }
   ],
   "source": [
    "for show in my_shows:\n",
    "    if show == 'Breaking Bad':\n",
    "        print('best show ever')\n",
    "        break\n",
    "    elif show == 'Friends':\n",
    "        continue\n",
    "    else:\n",
    "        print('not yet')\n"
   ]
  },
  {
   "cell_type": "markdown",
   "metadata": {},
   "source": [
    "### List Comprehensions (FTW)"
   ]
  },
  {
   "cell_type": "code",
   "execution_count": 8,
   "metadata": {},
   "outputs": [
    {
     "name": "stdout",
     "output_type": "stream",
     "text": [
      "['Friends', 'Rick and Morty']\n"
     ]
    }
   ],
   "source": [
    "funny_shows = [a for a in my_shows if a in ['Friends', 'Rick and Morty']]\n",
    "print(funny_shows)"
   ]
  },
  {
   "cell_type": "code",
   "execution_count": 10,
   "metadata": {},
   "outputs": [
    {
     "data": {
      "text/plain": [
       "['Friends', 'Rick and Morty']"
      ]
     },
     "execution_count": 10,
     "metadata": {},
     "output_type": "execute_result"
    }
   ],
   "source": [
    "funny_shows = []\n",
    "for a in my_shows:\n",
    "    if a in ['Friends', 'Rick and Morty']:\n",
    "        funny_shows.append(a)\n",
    "funny_shows"
   ]
  },
  {
   "cell_type": "markdown",
   "metadata": {},
   "source": [
    "### Dictionary key and values"
   ]
  },
  {
   "cell_type": "code",
   "execution_count": 11,
   "metadata": {},
   "outputs": [
    {
     "name": "stdout",
     "output_type": "stream",
     "text": [
      "dict_keys(['brand', 'model', 'year']) dict_values(['Ford', 'Mustang', 2020])\n"
     ]
    }
   ],
   "source": [
    "# Source: https://www.w3schools.com/python/python_dictionaries.asp\n",
    "thisdict = {\n",
    "  \"brand\": \"Ford\",\n",
    "  \"model\": \"Mustang\",\n",
    "  \"year\": 2020\n",
    "}\n",
    "print(thisdict.keys(), thisdict.values())"
   ]
  },
  {
   "cell_type": "code",
   "execution_count": 15,
   "metadata": {},
   "outputs": [
    {
     "ename": "SyntaxError",
     "evalue": "invalid syntax (<ipython-input-15-455ded0b43c9>, line 4)",
     "output_type": "error",
     "traceback": [
      "\u001b[1;36m  File \u001b[1;32m\"<ipython-input-15-455ded0b43c9>\"\u001b[1;36m, line \u001b[1;32m4\u001b[0m\n\u001b[1;33m    new_dict = {key: value for key, value in start_list, stop_list}\u001b[0m\n\u001b[1;37m                                                       ^\u001b[0m\n\u001b[1;31mSyntaxError\u001b[0m\u001b[1;31m:\u001b[0m invalid syntax\n"
     ]
    }
   ],
   "source": [
    "# from class\n",
    "start_list = ['a', 'b', 'c', 'd', 'e']\n",
    "stop_list = [1,2,3,4,5]\n",
    "new_dict = {key: value for key, value in start_list, stop_list}\n",
    "print(new_dict)"
   ]
  },
  {
   "cell_type": "code",
   "execution_count": null,
   "metadata": {},
   "outputs": [],
   "source": []
  }
 ],
 "metadata": {
  "kernelspec": {
   "display_name": "Python 3",
   "language": "python",
   "name": "python3"
  },
  "language_info": {
   "codemirror_mode": {
    "name": "ipython",
    "version": 3
   },
   "file_extension": ".py",
   "mimetype": "text/x-python",
   "name": "python",
   "nbconvert_exporter": "python",
   "pygments_lexer": "ipython3",
   "version": "3.7.6"
  }
 },
 "nbformat": 4,
 "nbformat_minor": 4
}
