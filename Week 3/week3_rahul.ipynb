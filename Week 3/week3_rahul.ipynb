{
 "cells": [
  {
   "cell_type": "markdown",
   "metadata": {},
   "source": [
    "### Python abstraction: Free Your Mind!\n",
    "### Classes"
   ]
  },
  {
   "cell_type": "markdown",
   "metadata": {},
   "source": [
    "https://www.geeksforgeeks.org/python-classes-and-objects/"
   ]
  },
  {
   "cell_type": "markdown",
   "metadata": {},
   "source": [
    "Classes are ideas of things; they can take any shape/values/form and give you flexibility in defining what they are. Instances are the actual thing associated with the class, they have fixed values.  \n",
    "Tip: Look at code for classes online and try to see if you can predict the outputs."
   ]
  },
  {
   "cell_type": "code",
   "execution_count": null,
   "metadata": {},
   "outputs": [],
   "source": [
    "class Simple():\n",
    "    a = 10\n",
    "    b = 20\n",
    "    \n",
    "s = Simple() # instance of the class\n",
    "s.a + s.b"
   ]
  },
  {
   "cell_type": "markdown",
   "metadata": {},
   "source": [
    "### Classes are 'self'ish"
   ]
  },
  {
   "cell_type": "code",
   "execution_count": null,
   "metadata": {},
   "outputs": [],
   "source": [
    "# Source: geeksforgeeks link above\n",
    "class Person:\n",
    "    # init method or constructor \n",
    "    def __init__(self, name):\n",
    "        self.name = name\n",
    "   \n",
    "    # Sample Method \n",
    "    def say_hi(self):\n",
    "        print('Hello, my name is', self.name)\n",
    "   \n",
    "p = Person('Nikhil')\n",
    "p.say_hi()"
   ]
  },
  {
   "cell_type": "code",
   "execution_count": null,
   "metadata": {},
   "outputs": [],
   "source": [
    "class City():\n",
    "    def __init__(self, population, language):\n",
    "        self.population = population\n",
    "        self.language = language\n",
    "    \n",
    "    def same_language(self, input_language):\n",
    "        if input_language == self.language.lower():\n",
    "            print('same language!')\n",
    "        else:\n",
    "            print('Duolingo is your only hope!')\n",
    "\n",
    "ahmedabad = City(10000, 'gujarati')\n",
    "madrid = City(100000, 'spanish')\n",
    "\n",
    "madrid.same_language('portugese')"
   ]
  },
  {
   "cell_type": "markdown",
   "metadata": {},
   "source": [
    "All natural code you use in Python is through classes; all names are a part of classes/methods."
   ]
  },
  {
   "cell_type": "code",
   "execution_count": null,
   "metadata": {},
   "outputs": [],
   "source": []
  }
 ],
 "metadata": {
  "kernelspec": {
   "display_name": "Python 3",
   "language": "python",
   "name": "python3"
  },
  "language_info": {
   "codemirror_mode": {
    "name": "ipython",
    "version": 3
   },
   "file_extension": ".py",
   "mimetype": "text/x-python",
   "name": "python",
   "nbconvert_exporter": "python",
   "pygments_lexer": "ipython3",
   "version": "3.7.6"
  }
 },
 "nbformat": 4,
 "nbformat_minor": 4
}
