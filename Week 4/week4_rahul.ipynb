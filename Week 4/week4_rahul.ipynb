{
 "cells": [
  {
   "cell_type": "markdown",
   "metadata": {},
   "source": [
    "## Supplementary content: try/except\n",
    "### Works just like an if-else statement!"
   ]
  },
  {
   "cell_type": "code",
   "execution_count": null,
   "metadata": {},
   "outputs": [],
   "source": [
    "a = 10\n",
    "print(a+b)"
   ]
  },
  {
   "cell_type": "code",
   "execution_count": null,
   "metadata": {},
   "outputs": [],
   "source": [
    "try:\n",
    "    a = 10\n",
    "    print(a+b)\n",
    "except:\n",
    "    print('B is not defined!!')"
   ]
  },
  {
   "cell_type": "markdown",
   "metadata": {},
   "source": [
    "## Defining the specific error"
   ]
  },
  {
   "cell_type": "code",
   "execution_count": null,
   "metadata": {},
   "outputs": [],
   "source": [
    "try:\n",
    "    a = 10\n",
    "    print(a+b)\n",
    "except NameError:\n",
    "    print('you have a name error, check again')\n",
    "except:\n",
    "    print('B is not defined!!')"
   ]
  },
  {
   "cell_type": "markdown",
   "metadata": {},
   "source": [
    "## Try with else"
   ]
  },
  {
   "cell_type": "code",
   "execution_count": null,
   "metadata": {},
   "outputs": [],
   "source": [
    "try:\n",
    "    print(x)\n",
    "except:\n",
    "    print(\"Something went wrong\")\n",
    "else:\n",
    "    print('you made it')"
   ]
  },
  {
   "cell_type": "markdown",
   "metadata": {},
   "source": [
    "## Assert"
   ]
  },
  {
   "cell_type": "code",
   "execution_count": null,
   "metadata": {},
   "outputs": [],
   "source": [
    "assert isinstance(a, str), print('hello') #print and assertion error\n",
    "assert isinstance(a, str), 'hello' # test in assertion error"
   ]
  },
  {
   "cell_type": "markdown",
   "metadata": {},
   "source": [
    "## Assert with try"
   ]
  },
  {
   "cell_type": "code",
   "execution_count": null,
   "metadata": {},
   "outputs": [],
   "source": [
    "try:\n",
    "    assert isinstance(a, str)\n",
    "except AssertionError:\n",
    "    print('a is not a string')"
   ]
  },
  {
   "cell_type": "markdown",
   "metadata": {},
   "source": [
    "## Class inheritance\n",
    "### Caveat: Don't fret if you cannot wrap your head around this concept - this is the last time you'll hear about classes in this course, and probably your career. Focus instead on functions - those are super important!"
   ]
  },
  {
   "cell_type": "code",
   "execution_count": null,
   "metadata": {},
   "outputs": [],
   "source": [
    "class Parent():\n",
    "    def __init__(self, p_name, c_name, in_money):\n",
    "        self.p_name = p_name\n",
    "        self.c_name = c_name\n",
    "        self.in_money = in_money\n",
    "    \n",
    "    def display_attrs(self):\n",
    "        print(f'You passed in {self.p_name}, {self.c_name}, and {self.in_money}')"
   ]
  },
  {
   "cell_type": "code",
   "execution_count": null,
   "metadata": {},
   "outputs": [],
   "source": [
    "class Child(Parent):\n",
    "#     def display_attrs(self):\n",
    "#         print('You overrode!')\n",
    "    pass"
   ]
  },
  {
   "cell_type": "code",
   "execution_count": null,
   "metadata": {},
   "outputs": [],
   "source": [
    "try:\n",
    "    child = Child()\n",
    "except TypeError:\n",
    "    print('we did not pass arguments!')\n",
    "    child = Child('Will', 'Jaden', 10000)\n",
    "    child.display_attrs()"
   ]
  },
  {
   "cell_type": "markdown",
   "metadata": {},
   "source": [
    "## Overriding the parent"
   ]
  },
  {
   "cell_type": "code",
   "execution_count": null,
   "metadata": {},
   "outputs": [],
   "source": [
    "class Parent():\n",
    "    def __init__(self, p_name, c_name, in_money):\n",
    "        self.p_name = p_name\n",
    "        self.c_name = c_name\n",
    "        self.in_money = in_money\n",
    "    \n",
    "    def display_attrs(self):\n",
    "        print(f'You passed in {self.p_name}, {self.c_name}, and {self.in_money}')\n",
    "class Child(Parent):\n",
    "    def display_attrs(self, needed_arg):\n",
    "        print('You overrode!')\n",
    "    pass"
   ]
  },
  {
   "cell_type": "code",
   "execution_count": null,
   "metadata": {},
   "outputs": [],
   "source": [
    "child = Child('x', 'y', 10)\n",
    "child.display_attrs()"
   ]
  },
  {
   "cell_type": "code",
   "execution_count": null,
   "metadata": {},
   "outputs": [],
   "source": []
  }
 ],
 "metadata": {
  "kernelspec": {
   "display_name": "Python 3",
   "language": "python",
   "name": "python3"
  },
  "language_info": {
   "codemirror_mode": {
    "name": "ipython",
    "version": 3
   },
   "file_extension": ".py",
   "mimetype": "text/x-python",
   "name": "python",
   "nbconvert_exporter": "python",
   "pygments_lexer": "ipython3",
   "version": "3.7.6"
  }
 },
 "nbformat": 4,
 "nbformat_minor": 4
}
