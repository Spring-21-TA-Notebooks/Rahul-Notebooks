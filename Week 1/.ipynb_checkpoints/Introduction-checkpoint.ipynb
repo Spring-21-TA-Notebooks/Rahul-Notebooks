{
 "cells": [
  {
   "cell_type": "markdown",
   "metadata": {},
   "source": [
    "# Welcome to Thursday Lab!\n",
    "\n",
    "## About myself\n",
    "\n",
    "## Lab Basics\n",
    "\n",
    "You are required to attend 1 synchronous lab per week, but we encourage you to try out different labs! Professory Levy, myself, and the other TAs will all approach the material a bit differently so find the lab that works best for you. For this lab, review the asynchronous lecture on Wednesday, THIS LAB WILL ONLY COVER MATERIAL FROM THE SECOND HALF OF THE WEEK (Wednesday lecture).\n",
    "\n",
    "Zoom automatically records the length of your attendance. To get credit, you should be in lab for at least 10 minutes. We'll update lab attendance in Canvas periodically, but feel free to reach out if you weren't given credit for a lab you attended.\n",
    "\n",
    "The chat is difficult to see when I'm sharing my screen, so feel encouraged to unmute yourself and interrupt me with questions!\n",
    "\n",
    "I would prefer you have your video on, but I of course understand if you choose not to do so.\n",
    "\n",
    "All of the TAs lab code will be accessible through GitHub. For my labs, code will be posted before our meetings. I will post a Jupyter Notebook 'code template', and a .py file of the complete code to give you an example of what your homeworks should look like.\n",
    "\n",
    "The online world is difficult to navigate, and I am also a student like you, so please be patient and I will try my best to help!\n",
    "\n",
    "Q&A time\n",
    "\n",
    "\n",
    "## Grading Basics\n",
    "Grades will be updated on Canvas, and feedback will be pushed to your repositories. Let us know if you find inconsistencies between your grade on Canvas and on GitHub.\n",
    "\n",
    "We are always happy to answer any questions or confusion about grading. The most efficient way to do this is to email your grader (you'll see the name of your grader when they push comments to your repo). You can also email your grader with a regrade request, given you have a valid reason.\n",
    "\n",
    "## Citing Code\n",
    "When in doubt, cite your code! Googling is encouraged, but if you use code from Stack Overflow (or similar) be sure to include the link as a comment in your code. Also be sure to not copy the code directly. The same goes for lecture code--it is a great resource, but it is important to show us that you understand the code by developing it and making it your own.\n",
    "\n",
    "## Late Tokens\n",
    "If using late tokens, add a comment at the top of your script letting us know how many late tokens you are using for the assignment."
   ]
  },
  {
   "cell_type": "code",
   "execution_count": null,
   "metadata": {},
   "outputs": [],
   "source": []
  }
 ],
 "metadata": {
  "kernelspec": {
   "display_name": "Python 3",
   "language": "python",
   "name": "python3"
  },
  "language_info": {
   "codemirror_mode": {
    "name": "ipython",
    "version": 3
   },
   "file_extension": ".py",
   "mimetype": "text/x-python",
   "name": "python",
   "nbconvert_exporter": "python",
   "pygments_lexer": "ipython3",
   "version": "3.7.6"
  }
 },
 "nbformat": 4,
 "nbformat_minor": 4
}
